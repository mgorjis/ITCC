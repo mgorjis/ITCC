{
 "cells": [
  {
   "cell_type": "code",
   "execution_count": 2,
   "metadata": {
    "collapsed": false
   },
   "outputs": [],
   "source": [
    "import sys\n",
    "sys.path.insert(0, './src')\n",
    "\n",
    "import numpy as np\n",
    "from ITCC import ITCC\n",
    "\n",
    "\n",
    "import matplotlib.pyplot as plt\n",
    "%matplotlib inline"
   ]
  },
  {
   "cell_type": "code",
   "execution_count": 3,
   "metadata": {
    "collapsed": false
   },
   "outputs": [
    {
     "name": "stdout",
     "output_type": "stream",
     "text": [
      "[[1 0 2 0 2 1]]\n",
      "[[0 1 0 1 0 1]]\n"
     ]
    },
    {
     "data": {
      "text/plain": [
       "<matplotlib.image.AxesImage at 0x288b18be2e8>"
      ]
     },
     "execution_count": 3,
     "metadata": {},
     "output_type": "execute_result"
    },
    {
     "data": {
      "image/png": "[encoded data removed]",
      "text/plain": [
       "<matplotlib.figure.Figure at 0x288b18191d0>"
      ]
     },
     "metadata": {},
     "output_type": "display_data"
    }
   ],
   "source": [
    "p = np.matrix([[0.05,0.05,0.05,0,0,0], [0.05,0.05,.05,0,0,0],[0,0,0,0.05,0.05,0.05],[0,0,0,0.05,0.05,0.05],\n",
    "               [0.04,0.04,0,0.04,0.04,0.04],[0.04,0.04,0.04,0,0.04,0.04]])\n",
    "k = 3\n",
    "l = 2\n",
    "n_iters = 5\n",
    "convergeThresh = 0.001\n",
    "\n",
    "cX = np.matrix(np.random.randint(3, size=6))\n",
    "cY = np.matrix(np.random.randint(2, size=6))\n",
    "\n",
    "print(cX)\n",
    "print(cY)\n",
    "\n",
    "plt.matshow(p, cmap=plt.cm.Blues)"
   ]
  },
  {
   "cell_type": "code",
   "execution_count": 4,
   "metadata": {
    "collapsed": false
   },
   "outputs": [
    {
     "name": "stderr",
     "output_type": "stream",
     "text": [
      "./src\\util.py:55: RuntimeWarning: divide by zero encountered in log2\n",
      "  return np.sum(np.where(p != 0, p * np.log2(p / q), 0))\n",
      "./src\\util.py:55: RuntimeWarning: invalid value encountered in multiply\n",
      "  return np.sum(np.where(p != 0, p * np.log2(p / q), 0))\n",
      "./src\\util.py:55: RuntimeWarning: divide by zero encountered in true_divide\n",
      "  return np.sum(np.where(p != 0, p * np.log2(p / q), 0))\n",
      "./src\\util.py:55: RuntimeWarning: invalid value encountered in true_divide\n",
      "  return np.sum(np.where(p != 0, p * np.log2(p / q), 0))\n"
     ]
    }
   ],
   "source": [
    "M1,q,cX,cY,clustered,Error = ITCC(p, k, l, n_iters, convergeThresh, cX, cY) "
   ]
  },
  {
   "cell_type": "code",
   "execution_count": 5,
   "metadata": {
    "collapsed": false
   },
   "outputs": [
    {
     "name": "stdout",
     "output_type": "stream",
     "text": [
      "[[ 1.  1.  2.  2.  2.  1.]]\n",
      "[[ 0.  0.  0.  1.  1.  1.]]\n"
     ]
    }
   ],
   "source": [
    "# The detected indices of rows and columns\n",
    "\n",
    "print(cX)\n",
    "print(cY)"
   ]
  },
  {
   "cell_type": "code",
   "execution_count": 6,
   "metadata": {
    "collapsed": false
   },
   "outputs": [
    {
     "name": "stdout",
     "output_type": "stream",
     "text": [
      "[[ 0.05  0.05  0.05  0.    0.    0.  ]\n",
      " [ 0.05  0.05  0.05  0.    0.    0.  ]\n",
      " [ 0.04  0.04  0.04  0.    0.04  0.04]\n",
      " [ 0.    0.    0.    0.05  0.05  0.05]\n",
      " [ 0.    0.    0.    0.05  0.05  0.05]\n",
      " [ 0.04  0.04  0.    0.04  0.04  0.04]]\n"
     ]
    }
   ],
   "source": [
    "\n",
    "# sorted values of mat\n",
    "print(M1)\n",
    "\n"
   ]
  },
  {
   "cell_type": "code",
   "execution_count": 7,
   "metadata": {
    "collapsed": false
   },
   "outputs": [
    {
     "name": "stdout",
     "output_type": "stream",
     "text": [
      "[[ 0.    0.  ]\n",
      " [ 0.38  0.12]\n",
      " [ 0.12  0.38]]\n"
     ]
    }
   ],
   "source": [
    "# center of clusters\n",
    "\n",
    "print(clustered)"
   ]
  },
  {
   "cell_type": "code",
   "execution_count": 8,
   "metadata": {
    "collapsed": false
   },
   "outputs": [
    {
     "name": "stdout",
     "output_type": "stream",
     "text": [
      "[0.66193594511687315, 0.33001162681305796, 0.33001162681305796]\n"
     ]
    }
   ],
   "source": [
    "# change of error in iterations\n",
    "\n",
    "print(Error)\n"
   ]
  },
  {
   "cell_type": "code",
   "execution_count": 9,
   "metadata": {
    "collapsed": false
   },
   "outputs": [
    {
     "data": {
      "text/plain": [
       "<matplotlib.image.AxesImage at 0x288b196d320>"
      ]
     },
     "execution_count": 9,
     "metadata": {},
     "output_type": "execute_result"
    },
    {
     "data": {
      "image/png": "[encoded data removed]",
      "text/plain": [
       "<matplotlib.figure.Figure at 0x288b1805b70>"
      ]
     },
     "metadata": {},
     "output_type": "display_data"
    }
   ],
   "source": [
    "plt.matshow(M1, cmap=plt.cm.Blues)"
   ]
  },
  {
   "cell_type": "code",
   "execution_count": 10,
   "metadata": {
    "collapsed": true
   },
   "outputs": [],
   "source": [
    "#%%%%%%%%%%%%%%%%%%%%%%%%%%%%%%%%%%%%%%%%%%%%%%%%%%%%%%%%%%%%%%%%%%%%%%%%"
   ]
  },
  {
   "cell_type": "code",
   "execution_count": 11,
   "metadata": {
    "collapsed": true
   },
   "outputs": [],
   "source": [
    "from sklearn.datasets import make_checkerboard\n",
    "from sklearn.datasets import samples_generator as sg\n",
    "from sklearn.cluster.bicluster import SpectralBiclustering\n",
    "from sklearn.metrics import consensus_score\n",
    "\n",
    "n_clusters = (4, 3)\n",
    "data, rows, columns = make_checkerboard(\n",
    "    shape=(10, 10), n_clusters=n_clusters, noise=10,\n",
    "    shuffle=False, random_state=0)\n"
   ]
  },
  {
   "cell_type": "code",
   "execution_count": null,
   "metadata": {
    "collapsed": true
   },
   "outputs": [],
   "source": []
  }
 ],
 "metadata": {
  "kernelspec": {
   "display_name": "Python 3",
   "language": "python",
   "name": "python3"
  },
  "language_info": {
   "codemirror_mode": {
    "name": "ipython",
    "version": 3
   },
   "file_extension": ".py",
   "mimetype": "text/x-python",
   "name": "python",
   "nbconvert_exporter": "python",
   "pygments_lexer": "ipython3",
   "version": "3.5.1"
  },
  "latex_envs": {
   "bibliofile": "biblio.bib",
   "cite_by": "apalike",
   "current_citInitial": 1,
   "eqLabelWithNumbers": true,
   "eqNumInitial": 0
  }
 },
 "nbformat": 4,
 "nbformat_minor": 0
}
