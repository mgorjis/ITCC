{
 "cells": [
  {
   "cell_type": "code",
   "execution_count": 21,
   "metadata": {
    "collapsed": false
   },
   "outputs": [],
   "source": [
    "import sys\n",
    "sys.path.insert(0, './src')\n",
    "\n",
    "import numpy as np\n",
    "from ITCC import ITCC\n",
    "\n",
    "\n",
    "import matplotlib.pyplot as plt\n",
    "%matplotlib inline"
   ]
  },
  {
   "cell_type": "code",
   "execution_count": 25,
   "metadata": {
    "collapsed": false
   },
   "outputs": [
    {
     "name": "stdout",
     "output_type": "stream",
     "text": [
      "[[2 1 0 0 1 0]]\n",
      "[[1 1 1 0 1 0]]\n"
     ]
    },
    {
     "data": {
      "text/plain": [
       "<matplotlib.image.AxesImage at 0x238236e75f8>"
      ]
     },
     "execution_count": 25,
     "metadata": {},
     "output_type": "execute_result"
    },
    {
     "data": {
      "image/png": "[encoded data removed]",
      "text/plain": [
       "<matplotlib.figure.Figure at 0x238236551d0>"
      ]
     },
     "metadata": {},
     "output_type": "display_data"
    }
   ],
   "source": [
    "p = np.matrix([[0.05,0.05,0.05,0,0,0], [0.05,0.05,.05,0,0,0],[0,0,0,0.05,0.05,0.05],[0,0,0,0.05,0.05,0.05],\n",
    "               [0.04,0.04,0,0.04,0.04,0.04],[0.04,0.04,0.04,0,0.04,0.04]])\n",
    "k = 3\n",
    "l = 2\n",
    "n_iters = 5\n",
    "convergeThresh = 0.001\n",
    "\n",
    "cX = np.matrix(np.random.randint(3, size=6))\n",
    "cY = np.matrix(np.random.randint(2, size=6))\n",
    "\n",
    "print(cX)\n",
    "print(cY)\n",
    "\n",
    "plt.matshow(p, cmap=plt.cm.Blues)"
   ]
  },
  {
   "cell_type": "code",
   "execution_count": 26,
   "metadata": {
    "collapsed": false
   },
   "outputs": [
    {
     "name": "stderr",
     "output_type": "stream",
     "text": [
      "./src\\util.py:55: RuntimeWarning: invalid value encountered in true_divide\n",
      "  return np.sum(np.where(p != 0, p * np.log2(p / q), 0))\n",
      "./src\\util.py:55: RuntimeWarning: divide by zero encountered in log2\n",
      "  return np.sum(np.where(p != 0, p * np.log2(p / q), 0))\n",
      "./src\\util.py:55: RuntimeWarning: invalid value encountered in multiply\n",
      "  return np.sum(np.where(p != 0, p * np.log2(p / q), 0))\n",
      "./src\\util.py:55: RuntimeWarning: divide by zero encountered in true_divide\n",
      "  return np.sum(np.where(p != 0, p * np.log2(p / q), 0))\n"
     ]
    }
   ],
   "source": [
    "M1,q,cX,cY,clustered,Error = ITCC(p, k, l, n_iters, convergeThresh, cX, cY) "
   ]
  },
  {
   "cell_type": "code",
   "execution_count": 27,
   "metadata": {
    "collapsed": false
   },
   "outputs": [
    {
     "name": "stdout",
     "output_type": "stream",
     "text": [
      "[[ 2.  2.  0.  0.  1.  1.]]\n",
      "[[ 1.  1.  1.  0.  0.  0.]]\n"
     ]
    }
   ],
   "source": [
    "# The detected indices of rows and columns\n",
    "\n",
    "print(cX)\n",
    "print(cY)"
   ]
  },
  {
   "cell_type": "code",
   "execution_count": 30,
   "metadata": {
    "collapsed": false
   },
   "outputs": [
    {
     "name": "stdout",
     "output_type": "stream",
     "text": [
      "[[ 0.05  0.05  0.05  0.    0.    0.  ]\n",
      " [ 0.05  0.05  0.05  0.    0.    0.  ]\n",
      " [ 0.04  0.04  0.04  0.04  0.04  0.  ]\n",
      " [ 0.    0.04  0.04  0.04  0.04  0.04]\n",
      " [ 0.    0.    0.    0.05  0.05  0.05]\n",
      " [ 0.    0.    0.    0.05  0.05  0.05]]\n"
     ]
    }
   ],
   "source": [
    "\n",
    "# sorted values of mat\n",
    "print(M1)\n",
    "\n"
   ]
  },
  {
   "cell_type": "code",
   "execution_count": 31,
   "metadata": {
    "collapsed": false
   },
   "outputs": [
    {
     "name": "stdout",
     "output_type": "stream",
     "text": [
      "[[ 0.2  0.2]\n",
      " [ 0.3  0. ]\n",
      " [ 0.   0.3]]\n"
     ]
    }
   ],
   "source": [
    "# center of clusters\n",
    "\n",
    "print(clustered)"
   ]
  },
  {
   "cell_type": "code",
   "execution_count": 32,
   "metadata": {
    "collapsed": false
   },
   "outputs": [
    {
     "name": "stdout",
     "output_type": "stream",
     "text": [
      "[0.56217281279220055, 0.20704696838370862, 0.095702072172491479, 0.095702072172491479]\n"
     ]
    }
   ],
   "source": [
    "# change of error in iterations\n",
    "\n",
    "print(Error)\n"
   ]
  },
  {
   "cell_type": "code",
   "execution_count": 33,
   "metadata": {
    "collapsed": false
   },
   "outputs": [
    {
     "data": {
      "text/plain": [
       "<matplotlib.image.AxesImage at 0x2382374b208>"
      ]
     },
     "execution_count": 33,
     "metadata": {},
     "output_type": "execute_result"
    },
    {
     "data": {
      "image/png": "[encoded data removed]",
      "text/plain": [
       "<matplotlib.figure.Figure at 0x238235c7908>"
      ]
     },
     "metadata": {},
     "output_type": "display_data"
    }
   ],
   "source": [
    "plt.matshow(M1, cmap=plt.cm.Blues)"
   ]
  },
  {
   "cell_type": "code",
   "execution_count": null,
   "metadata": {
    "collapsed": true
   },
   "outputs": [],
   "source": []
  },
  {
   "cell_type": "code",
   "execution_count": null,
   "metadata": {
    "collapsed": true
   },
   "outputs": [],
   "source": []
  }
 ],
 "metadata": {
  "kernelspec": {
   "display_name": "Python 3",
   "language": "python",
   "name": "python3"
  },
  "language_info": {
   "codemirror_mode": {
    "name": "ipython",
    "version": 3
   },
   "file_extension": ".py",
   "mimetype": "text/x-python",
   "name": "python",
   "nbconvert_exporter": "python",
   "pygments_lexer": "ipython3",
   "version": "3.5.1"
  },
  "latex_envs": {
   "bibliofile": "biblio.bib",
   "cite_by": "apalike",
   "current_citInitial": 1,
   "eqLabelWithNumbers": true,
   "eqNumInitial": 0
  }
 },
 "nbformat": 4,
 "nbformat_minor": 0
}
