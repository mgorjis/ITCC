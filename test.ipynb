{
 "cells": [
  {
   "cell_type": "code",
   "execution_count": 2,
   "metadata": {
    "collapsed": false
   },
   "outputs": [],
   "source": [
    "import sys\n",
    "sys.path.insert(0, './src')\n",
    "\n",
    "import numpy as np\n",
    "from ITCC import ITCC\n",
    "\n",
    "\n",
    "import matplotlib.pyplot as plt\n",
    "%matplotlib inline"
   ]
  },
  {
   "cell_type": "code",
   "execution_count": 3,
   "metadata": {
    "collapsed": false
   },
   "outputs": [
    {
     "name": "stdout",
     "output_type": "stream",
     "text": [
      "[[1 0 2 0 2 1]]\n",
      "[[0 1 0 1 0 1]]\n"
     ]
    },
    {
     "data": {
      "text/plain": [
       "<matplotlib.image.AxesImage at 0x288b18be2e8>"
      ]
     },
     "execution_count": 3,
     "metadata": {},
     "output_type": "execute_result"
    },
    {
     "data": {
      "image/png": "[encoded data removed]",
      "text/plain": [
       "<matplotlib.figure.Figure at 0x288b18191d0>"
      ]
     },
     "metadata": {},
     "output_type": "display_data"
    }
   ],
   "source": [
    "p = np.matrix([[0.05,0.05,0.05,0,0,0], [0.05,0.05,.05,0,0,0],[0,0,0,0.05,0.05,0.05],[0,0,0,0.05,0.05,0.05],\n",
    "               [0.04,0.04,0,0.04,0.04,0.04],[0.04,0.04,0.04,0,0.04,0.04]])\n",
    "k = 3\n",
    "l = 2\n",
    "n_iters = 5\n",
    "convergeThresh = 0.001\n",
    "\n",
    "cX = np.matrix(np.random.randint(3, size=6))\n",
    "cY = np.matrix(np.random.randint(2, size=6))\n",
    "\n",
    "print(cX)\n",
    "print(cY)\n",
    "\n",
    "plt.matshow(p, cmap=plt.cm.Blues)"
   ]
  },
  {
   "cell_type": "code",
   "execution_count": 4,
   "metadata": {
    "collapsed": false
   },
   "outputs": [
    {
     "name": "stderr",
     "output_type": "stream",
     "text": [
      "./src\\util.py:55: RuntimeWarning: divide by zero encountered in log2\n",
      "  return np.sum(np.where(p != 0, p * np.log2(p / q), 0))\n",
      "./src\\util.py:55: RuntimeWarning: invalid value encountered in multiply\n",
      "  return np.sum(np.where(p != 0, p * np.log2(p / q), 0))\n",
      "./src\\util.py:55: RuntimeWarning: divide by zero encountered in true_divide\n",
      "  return np.sum(np.where(p != 0, p * np.log2(p / q), 0))\n",
      "./src\\util.py:55: RuntimeWarning: invalid value encountered in true_divide\n",
      "  return np.sum(np.where(p != 0, p * np.log2(p / q), 0))\n"
     ]
    }
   ],
   "source": [
    "M1,q,cX,cY,clustered,Error = ITCC(p, k, l, n_iters, convergeThresh, cX, cY) "
   ]
  },
  {
   "cell_type": "code",
   "execution_count": 5,
   "metadata": {
    "collapsed": false
   },
   "outputs": [
    {
     "name": "stdout",
     "output_type": "stream",
     "text": [
      "[[ 1.  1.  2.  2.  2.  1.]]\n",
      "[[ 0.  0.  0.  1.  1.  1.]]\n"
     ]
    }
   ],
   "source": [
    "# The detected indices of rows and columns\n",
    "\n",
    "print(cX)\n",
    "print(cY)"
   ]
  },
  {
   "cell_type": "code",
   "execution_count": 6,
   "metadata": {
    "collapsed": false
   },
   "outputs": [
    {
     "name": "stdout",
     "output_type": "stream",
     "text": [
      "[[ 0.05  0.05  0.05  0.    0.    0.  ]\n",
      " [ 0.05  0.05  0.05  0.    0.    0.  ]\n",
      " [ 0.04  0.04  0.04  0.    0.04  0.04]\n",
      " [ 0.    0.    0.    0.05  0.05  0.05]\n",
      " [ 0.    0.    0.    0.05  0.05  0.05]\n",
      " [ 0.04  0.04  0.    0.04  0.04  0.04]]\n"
     ]
    }
   ],
   "source": [
    "\n",
    "# sorted values of mat\n",
    "print(M1)\n",
    "\n"
   ]
  },
  {
   "cell_type": "code",
   "execution_count": 7,
   "metadata": {
    "collapsed": false
   },
   "outputs": [
    {
     "name": "stdout",
     "output_type": "stream",
     "text": [
      "[[ 0.    0.  ]\n",
      " [ 0.38  0.12]\n",
      " [ 0.12  0.38]]\n"
     ]
    }
   ],
   "source": [
    "# center of clusters\n",
    "\n",
    "print(clustered)"
   ]
  },
  {
   "cell_type": "code",
   "execution_count": 8,
   "metadata": {
    "collapsed": false
   },
   "outputs": [
    {
     "name": "stdout",
     "output_type": "stream",
     "text": [
      "[0.66193594511687315, 0.33001162681305796, 0.33001162681305796]\n"
     ]
    }
   ],
   "source": [
    "# change of error in iterations\n",
    "\n",
    "print(Error)\n"
   ]
  },
  {
   "cell_type": "code",
   "execution_count": 9,
   "metadata": {
    "collapsed": false
   },
   "outputs": [
    {
     "data": {
      "text/plain": [
       "<matplotlib.image.AxesImage at 0x288b196d320>"
      ]
     },
     "execution_count": 9,
     "metadata": {},
     "output_type": "execute_result"
    },
    {
     "data": {
      "image/png": "[encoded data removed]",
      "text/plain": [
       "<matplotlib.figure.Figure at 0x288b1805b70>"
      ]
     },
     "metadata": {},
     "output_type": "display_data"
    }
   ],
   "source": [
    "plt.matshow(M1, cmap=plt.cm.Blues)"
   ]
  },
  {
   "cell_type": "code",
   "execution_count": 10,
   "metadata": {
    "collapsed": true
   },
   "outputs": [],
   "source": [
    "#%%%%%%%%%%%%%%%%%%%%%%%%%%%%%%%%%%%%%%%%%%%%%%%%%%%%%%%%%%%%%%%%%%%%%%%%"
   ]
  },
  {
   "cell_type": "code",
   "execution_count": 40,
   "metadata": {
    "collapsed": true
   },
   "outputs": [],
   "source": [
    "from sklearn.datasets import make_checkerboard\n",
    "from sklearn.datasets import samples_generator as sg\n",
    "from sklearn.cluster.bicluster import SpectralBiclustering\n",
    "from sklearn.metrics import consensus_score\n",
    "\n",
    "dim=100\n",
    "n_clusters = (4, 3)\n",
    "data, rows, columns = make_checkerboard(\n",
    "    shape=(dim, dim), n_clusters=n_clusters, noise=10,\n",
    "    shuffle=False, random_state=0)\n",
    "\n",
    "data, row_idx, col_idx = sg._shuffle(data, random_state=0)\n",
    "plt.matshow(data, cmap=plt.cm.Blues)"
   ]
  },
  {
   "cell_type": "code",
   "execution_count": 41,
   "metadata": {
    "collapsed": false
   },
   "outputs": [],
   "source": [
    "data=data/np.sum(data)"
   ]
  },
  {
   "cell_type": "code",
   "execution_count": 42,
   "metadata": {
    "collapsed": false
   },
   "outputs": [
    {
     "data": {
      "text/plain": [
       "1.0"
      ]
     },
     "execution_count": 42,
     "metadata": {},
     "output_type": "execute_result"
    }
   ],
   "source": [
    "np.sum(data)"
   ]
  },
  {
   "cell_type": "code",
   "execution_count": 48,
   "metadata": {
    "collapsed": false
   },
   "outputs": [
    {
     "name": "stderr",
     "output_type": "stream",
     "text": [
      "./src\\util.py:55: RuntimeWarning: invalid value encountered in log2\n",
      "  return np.sum(np.where(p != 0, p * np.log2(p / q), 0))\n"
     ]
    }
   ],
   "source": [
    "k = 4\n",
    "l = 3\n",
    "n_iters = 5\n",
    "convergeThresh = 0.001\n",
    "\n",
    "cX = np.matrix(np.random.randint(k, size=dim))\n",
    "cY = np.matrix(np.random.randint(l, size=dim))\n",
    "\n",
    "#print(cX)\n",
    "#print(cY)\n",
    "\n",
    "M1,q,cX,cY,clustered,Error = ITCC(data, k, l, n_iters, convergeThresh, cX, cY) "
   ]
  },
  {
   "cell_type": "code",
   "execution_count": 38,
   "metadata": {
    "collapsed": false
   },
   "outputs": [
    {
     "name": "stdout",
     "output_type": "stream",
     "text": [
      "[[ 1.  1.  1.  1.  1.  1.  1.  1.  1.  1.  1.  1.  1.  1.  1.  1.  1.  1.\n",
      "   1.  1.  1.  1.  1.  1.  1.  3.  3.  3.  3.  3.  3.  3.  3.  3.  3.  3.\n",
      "   3.  3.  3.  3.  3.  3.  3.  3.  3.  3.  3.  3.  3.  3.  3.  3.  0.  2.\n",
      "   2.  2.  0.  2.  2.  0.  0.  0.  0.  0.  0.  0.  2.  0.  2.  2.  2.  2.\n",
      "   2.  0.  2.  0.  2.  0.  0.  0.  0.  0.  0.  0.  0.  0.  0.  0.  0.  0.\n",
      "   0.  0.  0.  0.  0.  0.  0.  0.  0.  0.]]\n",
      "[[ 0.  0.  0.  0.  0.  0.  0.  0.  0.  0.  0.  0.  0.  0.  0.  0.  0.  0.\n",
      "   0.  0.  0.  0.  0.  0.  0.  0.  0.  0.  0.  0.  0.  0.  0.  0.  1.  1.\n",
      "   0.  0.  0.  0.  0.  1.  0.  0.  1.  1.  1.  0.  1.  0.  0.  0.  0.  1.\n",
      "   0.  0.  1.  1.  1.  1.  1.  1.  0.  0.  1.  1.  1.  1.  1.  1.  1.  1.\n",
      "   1.  1.  1.  1.  1.  1.  1.  1.  1.  1.  1.  1.  1.  1.  1.  1.  1.  1.\n",
      "   1.  1.  1.  1.  1.  1.  1.  1.  1.  1.]]\n"
     ]
    }
   ],
   "source": [
    "print(cX)\n",
    "print(cY)"
   ]
  },
  {
   "cell_type": "code",
   "execution_count": 49,
   "metadata": {
    "collapsed": false
   },
   "outputs": [
    {
     "data": {
      "text/plain": [
       "<matplotlib.image.AxesImage at 0x288b4097b38>"
      ]
     },
     "execution_count": 49,
     "metadata": {},
     "output_type": "execute_result"
    },
    {
     "data": {
      "image/png": "[encoded data removed]",
      "text/plain": [
       "<matplotlib.figure.Figure at 0x288b3fe9ac8>"
      ]
     },
     "metadata": {},
     "output_type": "display_data"
    }
   ],
   "source": [
    "plt.matshow(M1, cmap=plt.cm.Blues)"
   ]
  },
  {
   "cell_type": "code",
   "execution_count": 52,
   "metadata": {
    "collapsed": false
   },
   "outputs": [
    {
     "data": {
      "text/plain": [
       "[nan, nan, nan, nan, nan]"
      ]
     },
     "execution_count": 52,
     "metadata": {},
     "output_type": "execute_result"
    }
   ],
   "source": [
    "Error"
   ]
  },
  {
   "cell_type": "code",
   "execution_count": null,
   "metadata": {
    "collapsed": true
   },
   "outputs": [],
   "source": []
  }
 ],
 "metadata": {
  "kernelspec": {
   "display_name": "Python 3",
   "language": "python",
   "name": "python3"
  },
  "language_info": {
   "codemirror_mode": {
    "name": "ipython",
    "version": 3
   },
   "file_extension": ".py",
   "mimetype": "text/x-python",
   "name": "python",
   "nbconvert_exporter": "python",
   "pygments_lexer": "ipython3",
   "version": "3.5.1"
  },
  "latex_envs": {
   "bibliofile": "biblio.bib",
   "cite_by": "apalike",
   "current_citInitial": 1,
   "eqLabelWithNumbers": true,
   "eqNumInitial": 0
  }
 },
 "nbformat": 4,
 "nbformat_minor": 0
}
